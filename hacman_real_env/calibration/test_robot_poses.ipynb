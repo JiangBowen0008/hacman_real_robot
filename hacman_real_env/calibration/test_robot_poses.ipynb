{
 "cells": [
  {
   "cell_type": "code",
   "execution_count": 2,
   "metadata": {},
   "outputs": [
    {
     "name": "stdout",
     "output_type": "stream",
     "text": [
      "Jupyter environment detected. Enabling Open3D WebVisualizer.\n",
      "[Open3D INFO] WebRTC GUI backend enabled.\n",
      "[Open3D INFO] WebRTCWindowSystem: HTTP handshake server disabled.\n"
     ]
    }
   ],
   "source": [
    "# from robot_controller import FrankaOSCController\n",
    "import open3d as o3d\n",
    "import numpy as np"
   ]
  },
  {
   "cell_type": "code",
   "execution_count": 3,
   "metadata": {},
   "outputs": [],
   "source": [
    "gripper_pose = [\n",
    "    [ 0.99987168, -0.00938568, -0.01221834,  0.69546502],\n",
    "    [-0.00908794, -0.99965622,  0.02419956, -0.02291797],\n",
    "    [-0.01244126, -0.02408542, -0.99963248,  0.00931603],\n",
    "    [ 0.,          0.,          0.,          1.        ]]\n",
    "gripper_pose = np.array(gripper_pose)"
   ]
  },
  {
   "cell_type": "code",
   "execution_count": 25,
   "metadata": {},
   "outputs": [
    {
     "name": "stdout",
     "output_type": "stream",
     "text": [
      "hand to finger [[ 0.70721358 -0.70721358  0.          0.        ]\n",
      " [ 0.70721358  0.70721358  0.          0.        ]\n",
      " [ 0.          0.          1.         -0.1034    ]\n",
      " [ 0.          0.          0.          1.        ]]\n",
      "Tag pos: [ 0.71127151 -0.07939805  0.10366078]\n",
      "Finger pos: [ 0.69546502 -0.02291797  0.00931603]\n",
      "Hand pos: [ 0.6967284  -0.0254202   0.11267803]\n"
     ]
    }
   ],
   "source": [
    "def estimate_tag_pose(finger_pose):\n",
    "    \"\"\"\n",
    "    Estimate the tag pose given the gripper pose by applying the gripper-to-tag transformation.\n",
    "\n",
    "    Args:\n",
    "        finger_pose (eef_pose): 4x4 transformation matrix from gripper to robot base\n",
    "    Returns:\n",
    "        hand_pose: 4x4 transformation matrix from hand to robot base\n",
    "        tag_pose: 4x4 transformation matrix from tag to robot base\n",
    "    \"\"\"\n",
    "    from scipy.spatial.transform import Rotation\n",
    "\n",
    "    # Estimate the hand pose\n",
    "    # finger_to_hand obtained from the product manual: \n",
    "    # [https://download.franka.de/documents/220010_Product%20Manual_Franka%20Hand_1.2_EN.pdf]\n",
    "    finger_to_hand = np.array([\n",
    "        [0.707,  0.707, 0, 0],\n",
    "        [-0.707, 0.707, 0, 0],\n",
    "        [0, 0, 1, 0.1034],\n",
    "        [0, 0, 0, 1],\n",
    "    ])\n",
    "    finger_to_hand = np.array([\n",
    "        [1, 0, 0, 0],\n",
    "        [0, 1, 0, 0],\n",
    "        [0, 0, 1, 0.1034],\n",
    "        [0, 0, 0, 1],\n",
    "    ])\n",
    "    hand_to_finger = np.linalg.inv(finger_to_hand)\n",
    "    print(\"hand to finger\", hand_to_finger)\n",
    "    hand_pose = np.dot(finger_pose, hand_to_finger)\n",
    "\n",
    "    t_tag_to_hand = np.array([0.048914, 0.0275, 0.00753])\n",
    "    # R_tag_to_hand = Rotation.from_quat([0.5, -0.5, 0.5, -0.5])\n",
    "    R_tag_to_hand = Rotation.from_quat([0, 0, 0, 1])\n",
    "    tag_to_hand = np.eye(4)\n",
    "    tag_to_hand[:3, :3] = R_tag_to_hand.as_matrix()\n",
    "    tag_to_hand[:3, 3] = t_tag_to_hand\n",
    "\n",
    "    tag_pose = np.dot(hand_pose, tag_to_hand)\n",
    "    \n",
    "    return hand_pose, tag_pose\n",
    "\n",
    "    t_gripper_to_tag_top_left = np.array([0.048914, 0.0275, 0.00753])\n",
    "    R_gripper_to_tag_top_left = Rotation.from_quat([0.5, -0.5, 0.5, -0.5])\n",
    "\n",
    "    gripper_pos, gripper_mat = gripper_pose[:3, 3], gripper_pose[:3, :3]\n",
    "    gripper_rot = Rotation.from_matrix(gripper_mat)\n",
    "    gripper_to_world_rot = gripper_rot.inv()\n",
    "\n",
    "    print(\"gripper rot\", gripper_rot.as_euler('xyz', degrees=True))\n",
    "    transformed_delta_pos = t_gripper_to_tag_top_left.copy()\n",
    "    transformed_delta_pos = R_gripper_to_tag_top_left.inv().apply(transformed_delta_pos)\n",
    "    print(\"first transform\", transformed_delta_pos)\n",
    "    transformed_delta_pos = gripper_to_world_rot.apply(transformed_delta_pos)\n",
    "    print(\"second transform\", transformed_delta_pos)\n",
    "    \n",
    "    tag_pos = gripper_pos + transformed_delta_pos\n",
    "    tag_pose = gripper_pose.copy()\n",
    "    tag_pose[:3, 3] = tag_pos\n",
    "    # R_gripper_to_tag_top_left = Rotation.from_quat([0, 0, 0, 1]).as_matrix()\n",
    "    # T_gripper_to_tag_top_left = np.eye(4)\n",
    "    # T_gripper_to_tag_top_left[:3, :3] = R_gripper_to_tag_top_left\n",
    "    # T_gripper_to_tag_top_left[:3, 3] = t_gripper_to_tag_top_left\n",
    "\n",
    "    # tag_pose = gripper_pose @ T_gripper_to_tag_top_left\n",
    "    return tag_pose\n",
    "\n",
    "hand_pose, tag_pose = estimate_tag_pose(gripper_pose)\n",
    "print(f\"Tag pos: {tag_pose[:3, 3]}\")\n",
    "print(f\"Finger pos: {gripper_pose[:3, 3]}\")\n",
    "print(f\"Hand pos: {hand_pose[:3, 3]}\")\n",
    "\n",
    "# Visualize the tag and gripper poses\n",
    "vis = o3d.visualization.Visualizer()\n",
    "robot_base_coord = o3d.geometry.TriangleMesh.create_coordinate_frame(size=0.4)\n",
    "hand_coord = o3d.geometry.TriangleMesh.create_coordinate_frame(\n",
    "    size=0.2, origin=hand_pose[:3, 3])\n",
    "hand_coord.rotate(hand_pose[:3, :3])\n",
    "gripper_coord = o3d.geometry.TriangleMesh.create_coordinate_frame(\n",
    "    size=0.1, origin=gripper_pose[:3, 3])\n",
    "gripper_coord.rotate(gripper_pose[:3, :3])\n",
    "tag_coord = o3d.geometry.TriangleMesh.create_coordinate_frame(\n",
    "    size=0.05, origin=tag_pose[:3, 3])\n",
    "tag_coord.rotate(tag_pose[:3, :3])\n",
    "\n",
    "o3d.visualization.draw_geometries([robot_base_coord, hand_coord, gripper_coord, tag_coord])"
   ]
  },
  {
   "cell_type": "code",
   "execution_count": null,
   "metadata": {},
   "outputs": [],
   "source": [
    "Finger pos: [ 0.69546502 -0.02291797  0.00931603]\n",
    "Hand pos: [ 0.69546502 -0.02291797  0.11271603]"
   ]
  }
 ],
 "metadata": {
  "kernelspec": {
   "display_name": "hacman-real",
   "language": "python",
   "name": "python3"
  },
  "language_info": {
   "codemirror_mode": {
    "name": "ipython",
    "version": 3
   },
   "file_extension": ".py",
   "mimetype": "text/x-python",
   "name": "python",
   "nbconvert_exporter": "python",
   "pygments_lexer": "ipython3",
   "version": "3.8.18"
  }
 },
 "nbformat": 4,
 "nbformat_minor": 2
}
